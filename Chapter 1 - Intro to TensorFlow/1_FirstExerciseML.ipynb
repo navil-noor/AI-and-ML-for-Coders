{
  "nbformat": 4,
  "nbformat_minor": 0,
  "metadata": {
    "colab": {
      "provenance": []
    },
    "kernelspec": {
      "name": "python3",
      "display_name": "Python 3"
    },
    "language_info": {
      "name": "python"
    }
  },
  "cells": [
    {
      "cell_type": "code",
      "execution_count": null,
      "metadata": {
        "id": "ARzOwraelQM8"
      },
      "outputs": [],
      "source": [
        "# importing tensorflow, numpy libraries and from Keras API importing Sequential, Dense.\n",
        "import tensorflow as tf\n",
        "import numpy as np\n",
        "from tensorflow.keras import Sequential\n",
        "from tensorflow.keras.layers import Dense"
      ]
    },
    {
      "cell_type": "code",
      "source": [
        "# Defining a simple sequential neural network model consisting of a single dense layer with 1 unit and an input shape of [1].\n",
        "# The input shape of [1] indicates a single input value. The dense layer is a fully connected layer where each unit is connected to all the inputs.\n",
        "model = Sequential([Dense(units=1, input_shape=[1])])\n",
        "\n",
        "# Compiling the model by setting the optimization algorithm to use during training, here, \"stochastic gradient descent.\"\n",
        "# The loss function, mean squared error is used to measure the difference between predicted and true output during the training process.\n",
        "# The optimizer and loss function determines how the model is updated during training to reduce the loss and improve its accuracy.\n",
        "model.compile(optimizer='sgd', loss='mean_squared_error')"
      ],
      "metadata": {
        "id": "lCesr5Kuo6lW"
      },
      "execution_count": null,
      "outputs": []
    },
    {
      "cell_type": "code",
      "source": [
        "xs = np.array([-1.0, 0.0, 1.0, 2.0, 3.0, 4.0], dtype=float)\n",
        "ys = np.array([-3.0, -1.0, 1.0, 3.0, 5.0, 7.0], dtype=float)"
      ],
      "metadata": {
        "id": "aLMId5qgwjNx"
      },
      "execution_count": null,
      "outputs": []
    },
    {
      "cell_type": "code",
      "source": [
        "# The fit method trains the model using inputs, xs and corresponding outputs, ys. Model is trained over 500 epochs.\n",
        "# An epoch is a complete iteration over the entire training dataset. \n",
        "model.fit(xs, ys, epochs=500)"
      ],
      "metadata": {
        "id": "Sn2z5ahRxN4-"
      },
      "execution_count": null,
      "outputs": []
    },
    {
      "cell_type": "code",
      "source": [
        "# now we try to predict a value. Actual value is 19 but small amount of data gives only a predicted value.\n",
        "print(model.predict([10.0]))"
      ],
      "metadata": {
        "id": "gaTbY7miyTg9"
      },
      "execution_count": null,
      "outputs": []
    }
  ]
}
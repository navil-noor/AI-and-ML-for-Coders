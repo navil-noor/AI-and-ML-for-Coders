{
  "nbformat": 4,
  "nbformat_minor": 0,
  "metadata": {
    "colab": {
      "provenance": []
    },
    "kernelspec": {
      "name": "python3",
      "display_name": "Python 3"
    },
    "language_info": {
      "name": "python"
    }
  },
  "cells": [
    {
      "cell_type": "code",
      "execution_count": 1,
      "metadata": {
        "id": "ncA8C5UbNI9T"
      },
      "outputs": [],
      "source": [
        "import tensorflow as tf"
      ]
    },
    {
      "cell_type": "code",
      "source": [
        "# Callback function to check when accuracy reaches above 95% then stop the training\n",
        "# on_epoch_end function gives us details about the logs for the epoch\n",
        "class myCallback(tf.keras.callbacks.Callback):\n",
        "  def on_epoch_end(self, epoch, logs={}):\n",
        "    if(logs.get('accuracy')>0.95):\n",
        "      print(\"\\nReached 95% accuracy so cancelling training!\")\n",
        "      self.model.stop_training = True"
      ],
      "metadata": {
        "id": "Oscq7UhJzm4r"
      },
      "execution_count": 2,
      "outputs": []
    },
    {
      "cell_type": "code",
      "source": [
        "# Creating an instance (callbacks) of the myCallback class \n",
        "# Accessing the data using the tensorflow datasets and storing to mnist\n",
        "callbacks = myCallback()\n",
        "mnist = tf.keras.datasets.fashion_mnist"
      ],
      "metadata": {
        "id": "-USMIcNJzacQ"
      },
      "execution_count": 3,
      "outputs": []
    },
    {
      "cell_type": "code",
      "source": [
        "# load data method to return the training and testing images\n",
        "(train_images, train_labels), (test_images, test_labels) = mnist.load_data()"
      ],
      "metadata": {
        "id": "BqwH1pwyYHr5"
      },
      "execution_count": 4,
      "outputs": []
    },
    {
      "cell_type": "code",
      "source": [
        "# normalizing the images to improve performance\n",
        "# grayscale (values between 0 and 255) images divided by 255 makes every pixel represented by a number between 0 and 1\n",
        "train_images = train_images / 255.0\n",
        "test_images = test_images / 255.0"
      ],
      "metadata": {
        "id": "CX_WfALGYyVk"
      },
      "execution_count": 5,
      "outputs": []
    },
    {
      "cell_type": "code",
      "source": [
        "# The first layer takes the 28x28 input shape (representing an image) and flattens it into a 1-dimensional array of 784 values.\n",
        "# The next layer with 128 neurons, uses the Rectified Linear Unit (ReLU) activation function and applies it to the weighted sum of the inputs with the result.\n",
        "# The final layer with 10 neurons, uses the Softmax activation function to produce the probabilities for each of the 10 possible labels (0-9).\n",
        "# The Softmax function ensures that the outputs are all non-negative and sum to 1, representing a probability distribution over the possible labels.\n",
        "model = tf.keras.models.Sequential([\n",
        "    tf.keras.layers.Flatten(input_shape=(28, 28)),\n",
        "    tf.keras.layers.Dense(128, activation=tf.nn.relu),\n",
        "    tf.keras.layers.Dense(10, activation=tf.nn.softmax)\n",
        "])"
      ],
      "metadata": {
        "id": "f_XL1OReaLuK"
      },
      "execution_count": 6,
      "outputs": []
    },
    {
      "cell_type": "code",
      "source": [
        "# Adam (Adaptive Moment Estimation) is an evolution of the SGD, used for training large and complex neural networks. More efficient and faster.\n",
        "# Sparse Categorical Crossentropy is used in order to select category.\n",
        "# Accuracy metric will return how often it correctly matched the input pixels to the output label.\n",
        "model.compile(optimizer='adam', loss='sparse_categorical_crossentropy', metrics=['accuracy'])"
      ],
      "metadata": {
        "id": "hcA1t45RgzTi"
      },
      "execution_count": 7,
      "outputs": []
    },
    {
      "cell_type": "code",
      "source": [
        "# Training the network by fitting the training images to the training labels over fifty epochs\n",
        "# During training, end of each epoch the callback function is called to check if accuracy is 95%\n",
        "model.fit(train_images, train_labels, epochs=50,\n",
        "          callbacks=[callbacks])"
      ],
      "metadata": {
        "id": "vgeZV6qmpPDC"
      },
      "execution_count": null,
      "outputs": []
    },
    {
      "cell_type": "code",
      "source": [
        "# Evaluate the model\n",
        "model.evaluate(test_images, test_labels)"
      ],
      "metadata": {
        "id": "mY22Uungp1qF"
      },
      "execution_count": null,
      "outputs": []
    },
    {
      "cell_type": "code",
      "source": [
        "# Store predictions to classification array. Test first value [0] against first image in the test set, test_labels[0]\n",
        "classifications = model.predict(test_images)\n",
        "print(classifications[0])\n",
        "print(test_labels[0])"
      ],
      "metadata": {
        "id": "4pBV0LbTp-J7"
      },
      "execution_count": null,
      "outputs": []
    }
  ]
}